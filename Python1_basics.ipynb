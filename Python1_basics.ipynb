{
 "cells": [
  {
   "cell_type": "code",
   "execution_count": 1,
   "id": "4d6906bd",
   "metadata": {},
   "outputs": [
    {
     "name": "stdout",
     "output_type": "stream",
     "text": [
      "Hello world\n"
     ]
    }
   ],
   "source": [
    "print('Hello world')"
   ]
  },
  {
   "cell_type": "code",
   "execution_count": 2,
   "id": "d9ae5de8",
   "metadata": {},
   "outputs": [
    {
     "name": "stdout",
     "output_type": "stream",
     "text": [
      "Python 3.8.8\n"
     ]
    }
   ],
   "source": [
    "!python --version"
   ]
  },
  {
   "cell_type": "code",
   "execution_count": 3,
   "id": "e1a7cb16",
   "metadata": {},
   "outputs": [
    {
     "name": "stdout",
     "output_type": "stream",
     "text": [
      "Hello world\n"
     ]
    }
   ],
   "source": [
    "print(\"Hello world\")  #a- enter cell above, b- enter cell above, x- delete the cell"
   ]
  },
  {
   "cell_type": "code",
   "execution_count": 4,
   "id": "db8680da",
   "metadata": {},
   "outputs": [
    {
     "data": {
      "text/plain": [
       "21"
      ]
     },
     "execution_count": 4,
     "metadata": {},
     "output_type": "execute_result"
    }
   ],
   "source": [
    "5+12+4   #shift+enter- cell get executed and goes to next cell"
   ]
  },
  {
   "cell_type": "code",
   "execution_count": 5,
   "id": "a2c7266e",
   "metadata": {},
   "outputs": [
    {
     "data": {
      "text/plain": [
       "58"
      ]
     },
     "execution_count": 5,
     "metadata": {},
     "output_type": "execute_result"
    }
   ],
   "source": [
    "5+53    #ctrl+enter - only that cell gets executed"
   ]
  },
  {
   "cell_type": "markdown",
   "id": "1b155341",
   "metadata": {},
   "source": [
    "### Basics of python"
   ]
  },
  {
   "cell_type": "markdown",
   "id": "624ee746",
   "metadata": {},
   "source": [
    "### 3 hashtags, write something,select cell menu, cell, cell type, markdown,run."
   ]
  },
  {
   "cell_type": "markdown",
   "id": "2d19f7e4",
   "metadata": {},
   "source": [
    "# Python Basics"
   ]
  },
  {
   "cell_type": "markdown",
   "id": "1c603fc1",
   "metadata": {},
   "source": [
    "###python basics"
   ]
  },
  {
   "cell_type": "code",
   "execution_count": 6,
   "id": "c41222f5",
   "metadata": {},
   "outputs": [],
   "source": [
    "a=5\n",
    "b=8\n",
    "c=a+b"
   ]
  },
  {
   "cell_type": "code",
   "execution_count": 7,
   "id": "6715615d",
   "metadata": {},
   "outputs": [
    {
     "data": {
      "text/plain": [
       "13"
      ]
     },
     "execution_count": 7,
     "metadata": {},
     "output_type": "execute_result"
    }
   ],
   "source": [
    "c"
   ]
  },
  {
   "cell_type": "code",
   "execution_count": 8,
   "id": "8df1bcd6",
   "metadata": {},
   "outputs": [
    {
     "name": "stdout",
     "output_type": "stream",
     "text": [
      "13\n"
     ]
    }
   ],
   "source": [
    "print(c)"
   ]
  },
  {
   "cell_type": "code",
   "execution_count": 9,
   "id": "dcae4215",
   "metadata": {},
   "outputs": [],
   "source": [
    "a,b,c=23,54,'hi'"
   ]
  },
  {
   "cell_type": "code",
   "execution_count": 11,
   "id": "ee249c8e",
   "metadata": {},
   "outputs": [
    {
     "data": {
      "text/plain": [
       "(54, 'hi')"
      ]
     },
     "execution_count": 11,
     "metadata": {},
     "output_type": "execute_result"
    }
   ],
   "source": [
    "b,c"
   ]
  },
  {
   "cell_type": "code",
   "execution_count": 12,
   "id": "07e3e236",
   "metadata": {},
   "outputs": [
    {
     "data": {
      "text/plain": [
       "'test'"
      ]
     },
     "execution_count": 12,
     "metadata": {},
     "output_type": "execute_result"
    }
   ],
   "source": [
    "a=b=c='test'\n",
    "b"
   ]
  },
  {
   "cell_type": "markdown",
   "id": "50f67f71",
   "metadata": {},
   "source": [
    "### DATA TYPES"
   ]
  },
  {
   "cell_type": "code",
   "execution_count": 13,
   "id": "0608656b",
   "metadata": {},
   "outputs": [],
   "source": [
    "Name='Pranjul'"
   ]
  },
  {
   "cell_type": "code",
   "execution_count": 14,
   "id": "5544431e",
   "metadata": {},
   "outputs": [
    {
     "data": {
      "text/plain": [
       "'Pranjul'"
      ]
     },
     "execution_count": 14,
     "metadata": {},
     "output_type": "execute_result"
    }
   ],
   "source": [
    "Name"
   ]
  },
  {
   "cell_type": "code",
   "execution_count": 15,
   "id": "ecda3641",
   "metadata": {},
   "outputs": [
    {
     "data": {
      "text/plain": [
       "str"
      ]
     },
     "execution_count": 15,
     "metadata": {},
     "output_type": "execute_result"
    }
   ],
   "source": [
    "a='Pranjul'\n",
    "type(a)"
   ]
  },
  {
   "cell_type": "code",
   "execution_count": 16,
   "id": "a1a23556",
   "metadata": {},
   "outputs": [
    {
     "data": {
      "text/plain": [
       "float"
      ]
     },
     "execution_count": 16,
     "metadata": {},
     "output_type": "execute_result"
    }
   ],
   "source": [
    "b=5.2\n",
    "type(b)"
   ]
  },
  {
   "cell_type": "code",
   "execution_count": 17,
   "id": "ee46b5cc",
   "metadata": {},
   "outputs": [
    {
     "data": {
      "text/plain": [
       "int"
      ]
     },
     "execution_count": 17,
     "metadata": {},
     "output_type": "execute_result"
    }
   ],
   "source": [
    "c=3\n",
    "type(c)"
   ]
  },
  {
   "cell_type": "code",
   "execution_count": 20,
   "id": "b47317cb",
   "metadata": {},
   "outputs": [
    {
     "data": {
      "text/plain": [
       "str"
      ]
     },
     "execution_count": 20,
     "metadata": {},
     "output_type": "execute_result"
    }
   ],
   "source": [
    "f=\"True\"\n",
    "type(f)"
   ]
  },
  {
   "cell_type": "code",
   "execution_count": 21,
   "id": "afd58a48",
   "metadata": {},
   "outputs": [
    {
     "data": {
      "text/plain": [
       "bool"
      ]
     },
     "execution_count": 21,
     "metadata": {},
     "output_type": "execute_result"
    }
   ],
   "source": [
    "g=True\n",
    "type(g)"
   ]
  },
  {
   "cell_type": "code",
   "execution_count": 22,
   "id": "c2e86540",
   "metadata": {},
   "outputs": [
    {
     "data": {
      "text/plain": [
       "(str, float, int, str, bool)"
      ]
     },
     "execution_count": 22,
     "metadata": {},
     "output_type": "execute_result"
    }
   ],
   "source": [
    "type(a),type(b),type(c),type(f),type(g)"
   ]
  },
  {
   "cell_type": "code",
   "execution_count": null,
   "id": "887ecbe3",
   "metadata": {},
   "outputs": [],
   "source": []
  },
  {
   "cell_type": "code",
   "execution_count": null,
   "id": "b7503ba0",
   "metadata": {},
   "outputs": [],
   "source": []
  },
  {
   "cell_type": "code",
   "execution_count": null,
   "id": "b52bf1fa",
   "metadata": {},
   "outputs": [],
   "source": []
  },
  {
   "cell_type": "code",
   "execution_count": null,
   "id": "f68169d0",
   "metadata": {},
   "outputs": [],
   "source": []
  },
  {
   "cell_type": "code",
   "execution_count": null,
   "id": "0bf1c04f",
   "metadata": {},
   "outputs": [],
   "source": []
  },
  {
   "cell_type": "code",
   "execution_count": null,
   "id": "f9927f84",
   "metadata": {},
   "outputs": [],
   "source": []
  },
  {
   "cell_type": "code",
   "execution_count": null,
   "id": "9f5d152c",
   "metadata": {},
   "outputs": [],
   "source": []
  },
  {
   "cell_type": "code",
   "execution_count": null,
   "id": "0e332ccc",
   "metadata": {},
   "outputs": [],
   "source": []
  },
  {
   "cell_type": "code",
   "execution_count": null,
   "id": "171bb9eb",
   "metadata": {},
   "outputs": [],
   "source": []
  },
  {
   "cell_type": "code",
   "execution_count": null,
   "id": "596932fd",
   "metadata": {},
   "outputs": [],
   "source": []
  },
  {
   "cell_type": "code",
   "execution_count": null,
   "id": "df993f24",
   "metadata": {},
   "outputs": [],
   "source": []
  },
  {
   "cell_type": "code",
   "execution_count": null,
   "id": "069559be",
   "metadata": {},
   "outputs": [],
   "source": []
  }
 ],
 "metadata": {
  "kernelspec": {
   "display_name": "Python 3",
   "language": "python",
   "name": "python3"
  },
  "language_info": {
   "codemirror_mode": {
    "name": "ipython",
    "version": 3
   },
   "file_extension": ".py",
   "mimetype": "text/x-python",
   "name": "python",
   "nbconvert_exporter": "python",
   "pygments_lexer": "ipython3",
   "version": "3.8.8"
  }
 },
 "nbformat": 4,
 "nbformat_minor": 5
}
