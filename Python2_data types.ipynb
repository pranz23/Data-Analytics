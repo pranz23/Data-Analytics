{
 "cells": [
  {
   "cell_type": "code",
   "execution_count": null,
   "id": "3b92ab1c",
   "metadata": {},
   "outputs": [],
   "source": [
    "#dictionary \"\"\"\"\"\"\n",
    "\n",
    "1.Dictionary key valuepair datastrucutre.\n",
    "2.key is unique and value can be duplicated\n",
    "3.can retrieve the value using key\n",
    "4.can change the value using key\n",
    "5.key is immutable\n",
    "\"\"\"\"\"\""
   ]
  },
  {
   "cell_type": "markdown",
   "id": "47bbc8f3",
   "metadata": {},
   "source": [
    "### List is mutable, tupple is not mutable"
   ]
  },
  {
   "cell_type": "code",
   "execution_count": null,
   "id": "5f17a5d3",
   "metadata": {},
   "outputs": [],
   "source": [
    "x=(\"apple\",\"banana\",\"cherry\")         # curvy bracket = tupple\n",
    "type(x)"
   ]
  },
  {
   "cell_type": "code",
   "execution_count": null,
   "id": "1921f0d7",
   "metadata": {},
   "outputs": [],
   "source": [
    "x=[\"apple\",\"banana\",\"cherry\"]     # square bracket = list\n",
    "type(x)"
   ]
  },
  {
   "cell_type": "code",
   "execution_count": null,
   "id": "49e7e387",
   "metadata": {},
   "outputs": [],
   "source": [
    "x={\"name\":\"John\",\"age\":36}       # curly bracket with colon = dictionary\n",
    "type(x)"
   ]
  },
  {
   "cell_type": "code",
   "execution_count": null,
   "id": "28f2115a",
   "metadata": {},
   "outputs": [],
   "source": [
    "x={\"apple\",\"banana\",\"cherry\"}     # curly bracket = set\n",
    "type(x)"
   ]
  },
  {
   "cell_type": "code",
   "execution_count": null,
   "id": "ed734d02",
   "metadata": {},
   "outputs": [],
   "source": [
    "sample_list=[12,43,56,\"hi\",1+2j,6.7]\n",
    "sample_list"
   ]
  },
  {
   "cell_type": "code",
   "execution_count": null,
   "id": "4bc741c8",
   "metadata": {},
   "outputs": [],
   "source": [
    "type(sample_list)"
   ]
  },
  {
   "cell_type": "code",
   "execution_count": null,
   "id": "adea1415",
   "metadata": {},
   "outputs": [],
   "source": [
    "sample_list[0]   # index value starts from 0"
   ]
  },
  {
   "cell_type": "markdown",
   "id": "f9a8d67f",
   "metadata": {},
   "source": [
    "sample_list[3]"
   ]
  },
  {
   "cell_type": "code",
   "execution_count": null,
   "id": "8eff26df",
   "metadata": {},
   "outputs": [],
   "source": [
    "sample_list[3]"
   ]
  },
  {
   "cell_type": "code",
   "execution_count": null,
   "id": "c01b5ddd",
   "metadata": {},
   "outputs": [],
   "source": [
    "sample_list[10]"
   ]
  },
  {
   "cell_type": "code",
   "execution_count": null,
   "id": "e1af996b",
   "metadata": {},
   "outputs": [],
   "source": [
    "sample_list[2]"
   ]
  },
  {
   "cell_type": "code",
   "execution_count": null,
   "id": "f2afc7d4",
   "metadata": {},
   "outputs": [],
   "source": [
    "sample_list[2]=3.5  #list is mutable.Value at index 2 is changed from 56 to 3.5."
   ]
  },
  {
   "cell_type": "code",
   "execution_count": null,
   "id": "ccb15d37",
   "metadata": {},
   "outputs": [],
   "source": [
    "sample_list"
   ]
  },
  {
   "cell_type": "code",
   "execution_count": null,
   "id": "66a68737",
   "metadata": {},
   "outputs": [],
   "source": [
    "sample_list[4]=100\n",
    "sample_list"
   ]
  },
  {
   "cell_type": "markdown",
   "id": "aa79f4db",
   "metadata": {},
   "source": [
    "sample_list"
   ]
  },
  {
   "cell_type": "code",
   "execution_count": null,
   "id": "a186c8f0",
   "metadata": {},
   "outputs": [],
   "source": [
    "sample_list.reverse()  #reverse order of list\n",
    "sample_list"
   ]
  },
  {
   "cell_type": "code",
   "execution_count": null,
   "id": "b580b1c2",
   "metadata": {},
   "outputs": [],
   "source": [
    "sample_list=[21,34,65,12,8.8]"
   ]
  },
  {
   "cell_type": "code",
   "execution_count": null,
   "id": "825ca544",
   "metadata": {},
   "outputs": [],
   "source": [
    "sample_list.sort()     #arrange the list in ascending order\n",
    "sample_list"
   ]
  },
  {
   "cell_type": "markdown",
   "id": "04e54fbf",
   "metadata": {},
   "source": [
    "# Properties of list\n",
    "1. Allows heterogenous elements (allow multiple data types)\n",
    "2. index starts from 0\n",
    "3. Mutable using index\n"
   ]
  },
  {
   "cell_type": "markdown",
   "id": "dff41f58",
   "metadata": {},
   "source": [
    "# Tuple"
   ]
  },
  {
   "cell_type": "code",
   "execution_count": null,
   "id": "a3c39249",
   "metadata": {},
   "outputs": [],
   "source": [
    "sample_tuple=(12,43,56,\"hi\",1+2j,6.7)\n",
    "sample_tuple"
   ]
  },
  {
   "cell_type": "code",
   "execution_count": null,
   "id": "55a37abe",
   "metadata": {},
   "outputs": [],
   "source": [
    "sample_tuple=12,43,56,\"hi\",1+2j,6.7\n",
    "sample_tuple"
   ]
  },
  {
   "cell_type": "code",
   "execution_count": null,
   "id": "38794861",
   "metadata": {},
   "outputs": [],
   "source": [
    "# tupple can be written with/without parenthesis"
   ]
  },
  {
   "cell_type": "code",
   "execution_count": null,
   "id": "3b8be9ec",
   "metadata": {},
   "outputs": [],
   "source": [
    "type(sample_tuple)"
   ]
  },
  {
   "cell_type": "code",
   "execution_count": null,
   "id": "2ce37f07",
   "metadata": {},
   "outputs": [],
   "source": [
    "sample_tuple[0]"
   ]
  },
  {
   "cell_type": "code",
   "execution_count": null,
   "id": "f80c3a47",
   "metadata": {},
   "outputs": [],
   "source": [
    "sample_tuple[4]"
   ]
  },
  {
   "cell_type": "code",
   "execution_count": null,
   "id": "7e0df807",
   "metadata": {},
   "outputs": [],
   "source": [
    "sample_tuple.reverse()"
   ]
  },
  {
   "cell_type": "code",
   "execution_count": null,
   "id": "db9c5de9",
   "metadata": {},
   "outputs": [],
   "source": [
    "#Tuple cannot reverse"
   ]
  },
  {
   "cell_type": "code",
   "execution_count": null,
   "id": "9fed7593",
   "metadata": {},
   "outputs": [],
   "source": [
    "sample_tuple[3]=13   # tuple is immutable"
   ]
  },
  {
   "cell_type": "markdown",
   "id": "9dba780b",
   "metadata": {},
   "source": [
    "# Tuple Properties"
   ]
  },
  {
   "cell_type": "code",
   "execution_count": null,
   "id": "31395727",
   "metadata": {},
   "outputs": [],
   "source": [
    "#1. Allows heterogenous\n",
    "#2. Retrieve using index. Index starts from 0.\n",
    "#3. cannot change the data once declared- immutable\n",
    "#4. () with or without parenthesis\n"
   ]
  },
  {
   "cell_type": "code",
   "execution_count": null,
   "id": "c5a224f8",
   "metadata": {},
   "outputs": [],
   "source": [
    "x=(1,2,3)  # converting tuple into list\n",
    "y=list(x)\n",
    "y"
   ]
  },
  {
   "cell_type": "code",
   "execution_count": null,
   "id": "89753318",
   "metadata": {},
   "outputs": [],
   "source": [
    "y.remove(3)  #removing elements in the list since we have already converted it into tuple\n",
    "y"
   ]
  },
  {
   "cell_type": "code",
   "execution_count": null,
   "id": "ed46abce",
   "metadata": {},
   "outputs": [],
   "source": [
    "y.append(34)  #adding element to the list\n",
    "y"
   ]
  },
  {
   "cell_type": "markdown",
   "id": "9d85f834",
   "metadata": {},
   "source": [
    "# Set"
   ]
  },
  {
   "cell_type": "code",
   "execution_count": 1,
   "id": "aa3c8dbd",
   "metadata": {},
   "outputs": [
    {
     "data": {
      "text/plain": [
       "set"
      ]
     },
     "execution_count": 1,
     "metadata": {},
     "output_type": "execute_result"
    }
   ],
   "source": [
    "sample_set={1,43,23,45,67,22,21,32,0,25,3,66,66,0,23,43,1,\"a\",\"abc\"}\n",
    "type(sample_set)"
   ]
  },
  {
   "cell_type": "code",
   "execution_count": 2,
   "id": "ceed4f5e",
   "metadata": {},
   "outputs": [
    {
     "data": {
      "text/plain": [
       "{0, 1, 21, 22, 23, 25, 3, 32, 43, 45, 66, 67, 'a', 'abc'}"
      ]
     },
     "execution_count": 2,
     "metadata": {},
     "output_type": "execute_result"
    }
   ],
   "source": [
    "sample_set   # sorted in the order of digits i.e 1,2,3"
   ]
  },
  {
   "cell_type": "code",
   "execution_count": 3,
   "id": "e4409daa",
   "metadata": {},
   "outputs": [
    {
     "ename": "TypeError",
     "evalue": "'set' object is not subscriptable",
     "output_type": "error",
     "traceback": [
      "\u001b[1;31m---------------------------------------------------------------------------\u001b[0m",
      "\u001b[1;31mTypeError\u001b[0m                                 Traceback (most recent call last)",
      "\u001b[1;32m<ipython-input-3-48dcbcba1ec1>\u001b[0m in \u001b[0;36m<module>\u001b[1;34m\u001b[0m\n\u001b[1;32m----> 1\u001b[1;33m \u001b[0msample_set\u001b[0m\u001b[1;33m[\u001b[0m\u001b[1;36m2\u001b[0m\u001b[1;33m]\u001b[0m                      \u001b[1;31m# cannot retrieve the data using index\u001b[0m\u001b[1;33m\u001b[0m\u001b[1;33m\u001b[0m\u001b[0m\n\u001b[0m",
      "\u001b[1;31mTypeError\u001b[0m: 'set' object is not subscriptable"
     ]
    }
   ],
   "source": [
    "sample_set[2]                      # cannot retrieve/change the data using index"
   ]
  },
  {
   "cell_type": "code",
   "execution_count": 4,
   "id": "87a44c12",
   "metadata": {},
   "outputs": [
    {
     "data": {
      "text/plain": [
       "{0, 1, 21, 22, 23, 25, 3, 32, 45, 66, 67, 'a', 'abc'}"
      ]
     },
     "execution_count": 4,
     "metadata": {},
     "output_type": "execute_result"
    }
   ],
   "source": [
    "sample_set.remove(43)\n",
    "sample_set"
   ]
  },
  {
   "cell_type": "code",
   "execution_count": 5,
   "id": "5e28d80d",
   "metadata": {},
   "outputs": [
    {
     "data": {
      "text/plain": [
       "{0, 1, 21, 22, 23, 25, 3, 32, 45, 66, 67, 99, 'a', 'abc'}"
      ]
     },
     "execution_count": 5,
     "metadata": {},
     "output_type": "execute_result"
    }
   ],
   "source": [
    "sample_set.add(99)\n",
    "sample_set"
   ]
  },
  {
   "cell_type": "code",
   "execution_count": 7,
   "id": "9496a085",
   "metadata": {},
   "outputs": [
    {
     "data": {
      "text/plain": [
       "1"
      ]
     },
     "execution_count": 7,
     "metadata": {},
     "output_type": "execute_result"
    }
   ],
   "source": [
    "sample_set.pop()  # pop randomly picks an element"
   ]
  },
  {
   "cell_type": "markdown",
   "id": "edd1bae2",
   "metadata": {},
   "source": [
    "# Set Properties"
   ]
  },
  {
   "cell_type": "code",
   "execution_count": null,
   "id": "308f182f",
   "metadata": {},
   "outputs": [],
   "source": [
    "# 1. Add heterogeneous\n",
    "# 2. Does not allow duplicates\n",
    "# 3. cannot access using index\n",
    "# 4 immutable using index \n",
    "# 5. sometimes can be ordered"
   ]
  },
  {
   "cell_type": "markdown",
   "id": "68e4e170",
   "metadata": {},
   "source": [
    "# Dictionary"
   ]
  },
  {
   "cell_type": "code",
   "execution_count": 8,
   "id": "b080935c",
   "metadata": {},
   "outputs": [
    {
     "data": {
      "text/plain": [
       "dict"
      ]
     },
     "execution_count": 8,
     "metadata": {},
     "output_type": "execute_result"
    }
   ],
   "source": [
    "sample_dict = {\"a\":\"alpha\",2:\"first\",2:\"second\",3:\"third\",1:\"fourth\",5:\"fourth\",6:\"sixth\"}    # a,2,3,1,5,6 are keys and alpha, first all are values\n",
    "type(sample_dict)"
   ]
  },
  {
   "cell_type": "code",
   "execution_count": 9,
   "id": "1a3a6a8e",
   "metadata": {},
   "outputs": [
    {
     "data": {
      "text/plain": [
       "{'a': 'alpha', 2: 'second', 3: 'third', 1: 'fourth', 5: 'fourth', 6: 'sixth'}"
      ]
     },
     "execution_count": 9,
     "metadata": {},
     "output_type": "execute_result"
    }
   ],
   "source": [
    "sample_dict     # in case of repetition the last key will be considered. key is unique, value can be duplicated"
   ]
  },
  {
   "cell_type": "code",
   "execution_count": 10,
   "id": "731d227f",
   "metadata": {},
   "outputs": [
    {
     "data": {
      "text/plain": [
       "'alpha'"
      ]
     },
     "execution_count": 10,
     "metadata": {},
     "output_type": "execute_result"
    }
   ],
   "source": [
    "sample_dict[\"a\"]"
   ]
  },
  {
   "cell_type": "code",
   "execution_count": 11,
   "id": "423e428d",
   "metadata": {},
   "outputs": [
    {
     "data": {
      "text/plain": [
       "'fourth'"
      ]
     },
     "execution_count": 11,
     "metadata": {},
     "output_type": "execute_result"
    }
   ],
   "source": [
    "sample_dict[5]"
   ]
  },
  {
   "cell_type": "code",
   "execution_count": 13,
   "id": "fec4775e",
   "metadata": {},
   "outputs": [
    {
     "data": {
      "text/plain": [
       "'second'"
      ]
     },
     "execution_count": 13,
     "metadata": {},
     "output_type": "execute_result"
    }
   ],
   "source": [
    "sample_dict[2]"
   ]
  },
  {
   "cell_type": "code",
   "execution_count": 15,
   "id": "20df4b69",
   "metadata": {},
   "outputs": [
    {
     "data": {
      "text/plain": [
       "{'a': 'alpha', 2: 'second', 3: 'third', 1: 'fourth', 5: 'fifth', 6: 'sixth'}"
      ]
     },
     "execution_count": 15,
     "metadata": {},
     "output_type": "execute_result"
    }
   ],
   "source": [
    "sample_dict[5]='fifth'   #it is mutable using key\n",
    "sample_dict"
   ]
  },
  {
   "cell_type": "code",
   "execution_count": 16,
   "id": "664c14d3",
   "metadata": {},
   "outputs": [
    {
     "data": {
      "text/plain": [
       "{'a': 'alpha',\n",
       " 2: 'second',\n",
       " 3: 'third',\n",
       " 1: 'fourth',\n",
       " 5: 'fifth',\n",
       " 6: 'sixth',\n",
       " 7: 'seventh'}"
      ]
     },
     "execution_count": 16,
     "metadata": {},
     "output_type": "execute_result"
    }
   ],
   "source": [
    "sample_dict[7]='seventh'    # seventh is added\n",
    "sample_dict"
   ]
  },
  {
   "cell_type": "code",
   "execution_count": 17,
   "id": "dee0071c",
   "metadata": {},
   "outputs": [
    {
     "ename": "AttributeError",
     "evalue": "'dict' object has no attribute 'reverse'",
     "output_type": "error",
     "traceback": [
      "\u001b[1;31m---------------------------------------------------------------------------\u001b[0m",
      "\u001b[1;31mAttributeError\u001b[0m                            Traceback (most recent call last)",
      "\u001b[1;32m<ipython-input-17-30df3e04ae26>\u001b[0m in \u001b[0;36m<module>\u001b[1;34m\u001b[0m\n\u001b[1;32m----> 1\u001b[1;33m \u001b[0msample_dict\u001b[0m\u001b[1;33m.\u001b[0m\u001b[0mreverse\u001b[0m\u001b[1;33m(\u001b[0m\u001b[1;33m)\u001b[0m\u001b[1;33m\u001b[0m\u001b[1;33m\u001b[0m\u001b[0m\n\u001b[0m",
      "\u001b[1;31mAttributeError\u001b[0m: 'dict' object has no attribute 'reverse'"
     ]
    }
   ],
   "source": [
    "sample_dict.reverse()   #no attribute for reversing"
   ]
  },
  {
   "cell_type": "code",
   "execution_count": 18,
   "id": "2cde4504",
   "metadata": {},
   "outputs": [
    {
     "ename": "SyntaxError",
     "evalue": "invalid syntax (<ipython-input-18-ed54ea2628bc>, line 3)",
     "output_type": "error",
     "traceback": [
      "\u001b[1;36m  File \u001b[1;32m\"<ipython-input-18-ed54ea2628bc>\"\u001b[1;36m, line \u001b[1;32m3\u001b[0m\n\u001b[1;33m    1.Dictionary key valuepair datastrucutre.\u001b[0m\n\u001b[1;37m      ^\u001b[0m\n\u001b[1;31mSyntaxError\u001b[0m\u001b[1;31m:\u001b[0m invalid syntax\n"
     ]
    }
   ],
   "source": [
    "#dictionary \"\"\"\"\"\"\n",
    "\n",
    "1.Dictionary key valuepair datastrucutre.\n",
    "2.key is unique and value can be duplicated\n",
    "3.can retrieve the value using key\n",
    "4.can change the value using key\n",
    "5.key is immutable\n",
    "\"\"\"\"\"\""
   ]
  },
  {
   "cell_type": "markdown",
   "id": "9b3294a9",
   "metadata": {},
   "source": [
    "# String"
   ]
  },
  {
   "cell_type": "code",
   "execution_count": 19,
   "id": "8285af15",
   "metadata": {},
   "outputs": [],
   "source": [
    "#1. String can be  retrieved using index\n",
    "#2. String is immutable"
   ]
  },
  {
   "cell_type": "code",
   "execution_count": 20,
   "id": "3190e3f3",
   "metadata": {},
   "outputs": [],
   "source": [
    "a=\"hi how are you?\""
   ]
  },
  {
   "cell_type": "code",
   "execution_count": 21,
   "id": "e9bd34f1",
   "metadata": {},
   "outputs": [
    {
     "data": {
      "text/plain": [
       "str"
      ]
     },
     "execution_count": 21,
     "metadata": {},
     "output_type": "execute_result"
    }
   ],
   "source": [
    "type(a)"
   ]
  },
  {
   "cell_type": "code",
   "execution_count": 22,
   "id": "4e0b514e",
   "metadata": {},
   "outputs": [
    {
     "data": {
      "text/plain": [
       "'h'"
      ]
     },
     "execution_count": 22,
     "metadata": {},
     "output_type": "execute_result"
    }
   ],
   "source": [
    "a[0]"
   ]
  },
  {
   "cell_type": "code",
   "execution_count": 23,
   "id": "16d1532e",
   "metadata": {},
   "outputs": [
    {
     "data": {
      "text/plain": [
       "' '"
      ]
     },
     "execution_count": 23,
     "metadata": {},
     "output_type": "execute_result"
    }
   ],
   "source": [
    "a[2]  #empty space between hi and how"
   ]
  },
  {
   "cell_type": "code",
   "execution_count": 24,
   "id": "ed502b93",
   "metadata": {},
   "outputs": [
    {
     "data": {
      "text/plain": [
       "'h'"
      ]
     },
     "execution_count": 24,
     "metadata": {},
     "output_type": "execute_result"
    }
   ],
   "source": [
    "a[3]"
   ]
  },
  {
   "cell_type": "code",
   "execution_count": 26,
   "id": "1141f12e",
   "metadata": {},
   "outputs": [
    {
     "ename": "TypeError",
     "evalue": "'str' object does not support item assignment",
     "output_type": "error",
     "traceback": [
      "\u001b[1;31m---------------------------------------------------------------------------\u001b[0m",
      "\u001b[1;31mTypeError\u001b[0m                                 Traceback (most recent call last)",
      "\u001b[1;32m<ipython-input-26-f1b07f122aa3>\u001b[0m in \u001b[0;36m<module>\u001b[1;34m\u001b[0m\n\u001b[1;32m----> 1\u001b[1;33m \u001b[0ma\u001b[0m\u001b[1;33m[\u001b[0m\u001b[1;36m3\u001b[0m\u001b[1;33m]\u001b[0m\u001b[1;33m=\u001b[0m\u001b[1;34m'u'\u001b[0m  \u001b[1;31m# string is immutable\u001b[0m\u001b[1;33m\u001b[0m\u001b[1;33m\u001b[0m\u001b[0m\n\u001b[0m",
      "\u001b[1;31mTypeError\u001b[0m: 'str' object does not support item assignment"
     ]
    }
   ],
   "source": [
    "a[3]='u'  # string is immutable"
   ]
  },
  {
   "cell_type": "code",
   "execution_count": null,
   "id": "6be1d5c4",
   "metadata": {},
   "outputs": [],
   "source": []
  },
  {
   "cell_type": "code",
   "execution_count": null,
   "id": "0ad0e94e",
   "metadata": {},
   "outputs": [],
   "source": []
  },
  {
   "cell_type": "code",
   "execution_count": null,
   "id": "6251aab2",
   "metadata": {},
   "outputs": [],
   "source": []
  },
  {
   "cell_type": "code",
   "execution_count": null,
   "id": "3caad821",
   "metadata": {},
   "outputs": [],
   "source": []
  },
  {
   "cell_type": "code",
   "execution_count": null,
   "id": "b2659ce9",
   "metadata": {},
   "outputs": [],
   "source": []
  },
  {
   "cell_type": "code",
   "execution_count": null,
   "id": "a7abc886",
   "metadata": {},
   "outputs": [],
   "source": []
  },
  {
   "cell_type": "code",
   "execution_count": null,
   "id": "5dde979b",
   "metadata": {},
   "outputs": [],
   "source": []
  },
  {
   "cell_type": "code",
   "execution_count": null,
   "id": "407c5073",
   "metadata": {},
   "outputs": [],
   "source": []
  },
  {
   "cell_type": "code",
   "execution_count": null,
   "id": "52457846",
   "metadata": {},
   "outputs": [],
   "source": []
  }
 ],
 "metadata": {
  "kernelspec": {
   "display_name": "Python 3",
   "language": "python",
   "name": "python3"
  },
  "language_info": {
   "codemirror_mode": {
    "name": "ipython",
    "version": 3
   },
   "file_extension": ".py",
   "mimetype": "text/x-python",
   "name": "python",
   "nbconvert_exporter": "python",
   "pygments_lexer": "ipython3",
   "version": "3.8.8"
  }
 },
 "nbformat": 4,
 "nbformat_minor": 5
}
